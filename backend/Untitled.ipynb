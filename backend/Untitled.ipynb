{
 "cells": [
  {
   "cell_type": "code",
   "execution_count": 1,
   "id": "0d104680",
   "metadata": {
    "pycharm": {
     "name": "#%%\n"
    }
   },
   "outputs": [],
   "source": [
    "import os\n",
    "os.environ['DJANGO_SETTINGS_MODULE'] = \"backend.settings\"\n",
    "os.environ[\"DJANGO_ALLOW_ASYNC_UNSAFE\"] = \"true\"\n",
    "\n",
    "import django\n",
    "django.setup()"
   ]
  },
  {
   "cell_type": "code",
   "execution_count": 6,
   "id": "955510d4",
   "metadata": {},
   "outputs": [
    {
     "name": "stdout",
     "output_type": "stream",
     "text": [
      "<QuerySet [<user: user object (6aeb5965-3838-4671-8066-fc86826fe8a9)>]>\n",
      "UserSerializer(<QuerySet [<user: user object (6aeb5965-3838-4671-8066-fc86826fe8a9)>]>):\n",
      "    name = CharField(max_length=20, validators=[<UniqueValidator(queryset=user.objects.all())>])\n",
      "    alias = CharField(max_length=20, validators=[<UniqueValidator(queryset=user.objects.all())>])\n",
      "    email = CharField(max_length=50, validators=[<UniqueValidator(queryset=user.objects.all())>])\n"
     ]
    }
   ],
   "source": [
    "from rebikeuser.serializers import UserSerializer\n",
    "from rebikeuser.models import user\n",
    "from rebikeuser.userUtil import user_find_by_name\n",
    "\n",
    "qs=user_find_by_name('client1')\n",
    "print(qs)\n",
    "qs = UserSerializer(qs)\n",
    "print(qs)"
   ]
  },
  {
   "cell_type": "code",
   "execution_count": null,
   "id": "a0b06a11",
   "metadata": {},
   "outputs": [],
   "source": []
  }
 ],
 "metadata": {
  "kernelspec": {
   "display_name": "Python 3 (ipykernel)",
   "language": "python",
   "name": "python3"
  },
  "language_info": {
   "codemirror_mode": {
    "name": "ipython",
    "version": 3
   },
   "file_extension": ".py",
   "mimetype": "text/x-python",
   "name": "python",
   "nbconvert_exporter": "python",
   "pygments_lexer": "ipython3",
   "version": "3.10.2"
  }
 },
 "nbformat": 4,
 "nbformat_minor": 5
}
