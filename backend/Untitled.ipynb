{
 "cells": [
  {
   "cell_type": "code",
   "execution_count": 1,
   "id": "0d104680",
   "metadata": {
    "pycharm": {
     "name": "#%%\n"
    }
   },
   "outputs": [
    {
     "ename": "SyntaxError",
     "evalue": "invalid syntax (models.py, line 8)",
     "output_type": "error",
     "traceback": [
      "Traceback \u001b[0;36m(most recent call last)\u001b[0m:\n",
      "  File \u001b[1;32m/Library/Frameworks/Python.framework/Versions/3.10/lib/python3.10/site-packages/IPython/core/interactiveshell.py:3398\u001b[0m in \u001b[1;35mrun_code\u001b[0m\n    exec(code_obj, self.user_global_ns, self.user_ns)\n",
      "  Input \u001b[1;32mIn [1]\u001b[0m in \u001b[1;35m<cell line: 6>\u001b[0m\n    django.setup()\n",
      "  File \u001b[1;32m/Library/Frameworks/Python.framework/Versions/3.10/lib/python3.10/site-packages/django/__init__.py:24\u001b[0m in \u001b[1;35msetup\u001b[0m\n    apps.populate(settings.INSTALLED_APPS)\n",
      "  File \u001b[1;32m/Library/Frameworks/Python.framework/Versions/3.10/lib/python3.10/site-packages/django/apps/registry.py:116\u001b[0m in \u001b[1;35mpopulate\u001b[0m\n    app_config.import_models()\n",
      "  File \u001b[1;32m/Library/Frameworks/Python.framework/Versions/3.10/lib/python3.10/site-packages/django/apps/config.py:304\u001b[0m in \u001b[1;35mimport_models\u001b[0m\n    self.models_module = import_module(models_module_name)\n",
      "  File \u001b[1;32m/Library/Frameworks/Python.framework/Versions/3.10/lib/python3.10/importlib/__init__.py:126\u001b[0m in \u001b[1;35mimport_module\u001b[0m\n    return _bootstrap._gcd_import(name[level:], package, level)\n",
      "  File \u001b[1;32m<frozen importlib._bootstrap>:1050\u001b[0m in \u001b[1;35m_gcd_import\u001b[0m\n",
      "  File \u001b[1;32m<frozen importlib._bootstrap>:1027\u001b[0m in \u001b[1;35m_find_and_load\u001b[0m\n",
      "  File \u001b[1;32m<frozen importlib._bootstrap>:1006\u001b[0m in \u001b[1;35m_find_and_load_unlocked\u001b[0m\n",
      "  File \u001b[1;32m<frozen importlib._bootstrap>:688\u001b[0m in \u001b[1;35m_load_unlocked\u001b[0m\n",
      "  File \u001b[1;32m<frozen importlib._bootstrap_external>:879\u001b[0m in \u001b[1;35mexec_module\u001b[0m\n",
      "  File \u001b[1;32m<frozen importlib._bootstrap_external>:1017\u001b[0m in \u001b[1;35mget_code\u001b[0m\n",
      "  File \u001b[1;32m<frozen importlib._bootstrap_external>:947\u001b[0m in \u001b[1;35msource_to_code\u001b[0m\n",
      "\u001b[0;36m  File \u001b[0;32m<frozen importlib._bootstrap>:241\u001b[0;36m in \u001b[0;35m_call_with_frames_removed\u001b[0;36m\u001b[0m\n",
      "\u001b[0;36m  File \u001b[0;32m~/Desktop/dev/1.inProgress/HowTrash/backend/rebikeuser/models.py:8\u001b[0;36m\u001b[0m\n\u001b[0;31m    <<<<<<< HEAD\u001b[0m\n\u001b[0m    ^\u001b[0m\n\u001b[0;31mSyntaxError\u001b[0m\u001b[0;31m:\u001b[0m invalid syntax\n"
     ]
    }
   ],
   "source": [
    "import os\n",
    "os.environ['DJANGO_SETTINGS_MODULE'] = \"backend.settings\"\n",
    "os.environ[\"DJANGO_ALLOW_ASYNC_UNSAFE\"] = \"true\"\n",
    "\n",
    "import django\n",
    "django.setup()"
   ]
  },
  {
   "cell_type": "code",
   "execution_count": 32,
   "id": "c78a378d",
   "metadata": {
    "pycharm": {
     "name": "#%%\n"
    }
   },
   "outputs": [
    {
     "name": "stdout",
     "output_type": "stream",
     "text": [
      "<class 'rebikeuser.models.User'>\n",
      "2\n",
      "{'user': <User: hi>, 'is_login': False}\n",
      "hi\n"
     ]
    }
   ],
   "source": [
    "from rebikeuser.serializers import user_to_dict\n",
    "from rebikeuser.userUtil import user_findByName, user_compPW\n",
    "from rebikeuser.models import User\n",
    "\n",
    "def user_login():\n",
    "    input_id = 'hi'\n",
    "    input_pw = 'sorry'\n",
    "    user = None\n",
    "    is_login = None\n",
    "\n",
    "    if input_pw != '' and input_id != '':\n",
    "        user = user_findByName(input_id)[0]\n",
    "        print(type(user))\n",
    "        if user:\n",
    "            is_login = user_compPW(input_pw, user)\n",
    "            print('2')\n",
    "            if is_login:\n",
    "                user = user_to_dict(user)\n",
    "                print(type(user))\n",
    "                user.pop('user_pw')\n",
    "                user.pop('user_salt')\n",
    "                \n",
    "    data = {\n",
    "        'user': user,\n",
    "        'is_login': is_login,\n",
    "    }\n",
    "\n",
    "    return data\n",
    "\n",
    "result = user_login()\n",
    "print(result)\n",
    "print(result.get('user'))"
   ]
  },
  {
   "cell_type": "code",
   "execution_count": 11,
   "id": "8e4ef4cd",
   "metadata": {},
   "outputs": [
    {
     "name": "stdout",
     "output_type": "stream",
     "text": [
      "hello\n",
      "myname\n"
     ]
    }
   ],
   "source": [
    "def user_hash_pw():\n",
    "    pw = 'hello'\n",
    "    salt = \"myname\"\n",
    "    result = {}\n",
    "    return pw, salt\n",
    "\n",
    "def returning_param(a , b):\n",
    "    print(a)\n",
    "    print(b)\n",
    "    \n",
    "hash_pw, salt = user_hash_pw()\n",
    "print(hash_pw)\n",
    "print(salt)"
   ]
  },
  {
   "cell_type": "code",
   "execution_count": 1,
   "id": "ae0f0c11",
   "metadata": {},
   "outputs": [
    {
     "name": "stdout",
     "output_type": "stream",
     "text": [
      "9dd869d0-58b1-46a7-a0f0-c5b6af557009\n"
     ]
    }
   ],
   "source": [
    "import uuid\n",
    "\n",
    "my_id = uuid.uuid4()\n",
    "print(my_id)"
   ]
  },
  {
   "cell_type": "code",
   "execution_count": null,
   "id": "be6482e6",
   "metadata": {},
   "outputs": [],
   "source": []
  }
 ],
 "metadata": {
  "kernelspec": {
   "display_name": "Python 3 (ipykernel)",
   "language": "python",
   "name": "python3"
  },
  "language_info": {
   "codemirror_mode": {
    "name": "ipython",
    "version": 3
   },
   "file_extension": ".py",
   "mimetype": "text/x-python",
   "name": "python",
   "nbconvert_exporter": "python",
   "pygments_lexer": "ipython3",
   "version": "3.10.2"
  }
 },
 "nbformat": 4,
 "nbformat_minor": 5
}
