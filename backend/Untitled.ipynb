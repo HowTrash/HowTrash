{
 "cells": [
  {
   "cell_type": "code",
   "execution_count": 1,
   "id": "0d104680",
   "metadata": {
    "pycharm": {
     "name": "#%%\n"
    }
   },
   "outputs": [],
   "source": [
    "import os\n",
    "os.environ['DJANGO_SETTINGS_MODULE'] = \"backend.settings\"\n",
    "os.environ[\"DJANGO_ALLOW_ASYNC_UNSAFE\"] = \"true\"\n",
    "\n",
    "import django\n",
    "django.setup()"
   ]
  },
  {
   "cell_type": "code",
   "execution_count": 32,
   "id": "c78a378d",
   "metadata": {
    "pycharm": {
     "name": "#%%\n"
    }
   },
   "outputs": [
    {
     "name": "stdout",
     "output_type": "stream",
     "text": [
      "<class 'rebikeuser.models.User'>\n",
      "2\n",
      "{'user': <User: hi>, 'is_login': False}\n",
      "hi\n"
     ]
    }
   ],
   "source": [
    "from rebikeuser.serializers import user_to_dict\n",
    "from rebikeuser.userUtil import user_findByName, user_compPW\n",
    "from rebikeuser.models import User\n",
    "\n",
    "def user_login():\n",
    "    input_id = 'hi'\n",
    "    input_pw = 'sorry'\n",
    "    user = None\n",
    "    is_login = None\n",
    "\n",
    "    if input_pw != '' and input_id != '':\n",
    "        user = user_findByName(input_id)[0]\n",
    "        print(type(user))\n",
    "        if user:\n",
    "            is_login = user_compPW(input_pw, user)\n",
    "            print('2')\n",
    "            if is_login:\n",
    "                user = user_to_dict(user)\n",
    "                print(type(user))\n",
    "                user.pop('user_pw')\n",
    "                user.pop('user_salt')\n",
    "                \n",
    "    data = {\n",
    "        'user': user,\n",
    "        'is_login': is_login,\n",
    "    }\n",
    "\n",
    "    return data\n",
    "\n",
    "result = user_login()\n",
    "print(result)\n",
    "print(result.get('user'))"
   ]
  },
  {
   "cell_type": "code",
   "execution_count": null,
   "id": "8e4ef4cd",
   "metadata": {},
   "outputs": [],
   "source": []
  }
 ],
 "metadata": {
  "kernelspec": {
   "display_name": "Python 3 (ipykernel)",
   "language": "python",
   "name": "python3"
  },
  "language_info": {
   "codemirror_mode": {
    "name": "ipython",
    "version": 3
   },
   "file_extension": ".py",
   "mimetype": "text/x-python",
   "name": "python",
   "nbconvert_exporter": "python",
   "pygments_lexer": "ipython3",
   "version": "3.10.2"
  }
 },
 "nbformat": 4,
 "nbformat_minor": 5
}
